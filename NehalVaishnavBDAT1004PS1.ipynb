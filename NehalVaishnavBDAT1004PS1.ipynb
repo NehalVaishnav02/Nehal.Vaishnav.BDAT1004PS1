{
 "cells": [
  {
   "cell_type": "markdown",
   "id": "155e1875",
   "metadata": {},
   "source": [
    "\n",
    "### Problem Set 1"
   ]
  },
  {
   "cell_type": "markdown",
   "id": "09fd930f",
   "metadata": {},
   "source": [
    "Question-1\n",
    "\n"
   ]
  },
  {
   "cell_type": "code",
   "execution_count": 1,
   "id": "a3517c55",
   "metadata": {},
   "outputs": [
    {
     "name": "stdout",
     "output_type": "stream",
     "text": [
      "<class 'int'>\n",
      "<class 'float'>\n",
      "<class 'bool'>\n",
      "<class 'str'>\n",
      "<class 'int'>\n",
      "<class 'str'>\n",
      "<class 'str'>\n",
      "<class 'float'>\n",
      "<class 'int'>\n",
      "<class 'set'>\n",
      "<class 'bool'>\n",
      "<class 'float'>\n"
     ]
    }
   ],
   "source": [
    "import math\n",
    "\n",
    "print(type(5))\n",
    "print(type(5.0))\n",
    "print(type(5>1))\n",
    "print(type('5'))\n",
    "print(type(5*2))\n",
    "print(type('5'*2))\n",
    "print(type('5'+'2'))\n",
    "print(type(5/2))\n",
    "print(type(5%2))\n",
    "print(type({5,2,1}))\n",
    "print(type(5==3))\n",
    "print(type(math.pi))\n",
    "\n"
   ]
  },
  {
   "cell_type": "markdown",
   "id": "9510069f",
   "metadata": {},
   "source": [
    "Question-2"
   ]
  },
  {
   "cell_type": "code",
   "execution_count": 7,
   "id": "db74bb37",
   "metadata": {},
   "outputs": [
    {
     "name": "stdout",
     "output_type": "stream",
     "text": [
      "34\n",
      "Contains\n",
      "Supercalifragilisticexpialidocious\n",
      "['Bartok', 'Bellini', 'Berlioz', 'Bernstein', 'Borodin', 'Brian', 'Buxtehude']\n"
     ]
    }
   ],
   "source": [
    "print(len('Supercalifragilisticexpialidocious'))\n",
    "word='ice'\n",
    "str = 'Supercalifragilisticexpialidocious'\n",
    "\n",
    "if word in str:\n",
    "    print('Contains')\n",
    "else: \n",
    "    print('Does not contain')\n",
    "\n",
    "mylist=['Supercalifragilisticexpialidocious','Honorificabilitudinitatibus','Bababadalgharaghtakamminarronnkonn']\n",
    "longest_str= max(mylist, key=len)\n",
    "print(longest_str)\n",
    "\n",
    "mylist2=['Berlioz', 'Borodin', 'Brian','Bartok', 'Bellini', 'Buxtehude', 'Bernstein']\n",
    "print(sorted(mylist2))\n"
   ]
  },
  {
   "cell_type": "markdown",
   "id": "899cf3e3",
   "metadata": {},
   "source": [
    "Question-3"
   ]
  },
  {
   "cell_type": "code",
   "execution_count": 8,
   "id": "e2138cbe",
   "metadata": {},
   "outputs": [
    {
     "data": {
      "text/plain": [
       "1.7320508075688772"
      ]
     },
     "execution_count": 8,
     "metadata": {},
     "output_type": "execute_result"
    }
   ],
   "source": [
    "import math\n",
    "\n",
    "def trianglearea(a,b,c):\n",
    "    s=(a+b+c)/2\n",
    "    area= math.sqrt(s*(s-a)*(s-b)*(s-c))\n",
    "    return area\n",
    "trianglearea(2,2,2)\n",
    "\n"
   ]
  },
  {
   "cell_type": "markdown",
   "id": "d72e47a2",
   "metadata": {},
   "source": [
    "Question-4"
   ]
  },
  {
   "cell_type": "code",
   "execution_count": 9,
   "id": "a9c70608",
   "metadata": {},
   "outputs": [
    {
     "name": "stdout",
     "output_type": "stream",
     "text": [
      "Even lists: [42, 56, 32]\n",
      "Odd lists: [25, 47]\n"
     ]
    }
   ],
   "source": [
    "def oddeven():\n",
    "    list=[25,47,42,56,32]\n",
    "    evenlist=[]\n",
    "    oddlist=[]\n",
    "    for i in list:\n",
    "        if (i%2==0):\n",
    "            evenlist.append(i)\n",
    "        else:\n",
    "            oddlist.append(i)\n",
    "        \n",
    "    print(\"Even lists:\",evenlist)\n",
    "    print(\"Odd lists:\",oddlist)\n",
    "    \n",
    "oddeven()\n",
    "    \n"
   ]
  },
  {
   "cell_type": "markdown",
   "id": "3c885110",
   "metadata": {},
   "source": [
    "Question-5"
   ]
  },
  {
   "cell_type": "code",
   "execution_count": 10,
   "id": "24eed07c",
   "metadata": {},
   "outputs": [
    {
     "name": "stdout",
     "output_type": "stream",
     "text": [
      "True\n",
      "False\n",
      "False\n"
     ]
    }
   ],
   "source": [
    "def inside(x,y,x1,y1,x2,y2):\n",
    "    if(x1<x and x<x2) and (y1<y and y<y2):\n",
    "        return True\n",
    "    else:\n",
    "        return False\n",
    "    \n",
    "print(inside(1,1,0,0,2,3))\n",
    "print(inside(-1,-1,0,0,2,3))\n",
    "print(inside(1,1,0.3,0.5,1.1,0.7) and inside(1,1,0.5,0.2,1.1,2))"
   ]
  },
  {
   "cell_type": "markdown",
   "id": "4a664d54",
   "metadata": {},
   "source": [
    "Question-6"
   ]
  },
  {
   "cell_type": "code",
   "execution_count": 11,
   "id": "974fe957",
   "metadata": {},
   "outputs": [
    {
     "name": "stdout",
     "output_type": "stream",
     "text": [
      "enterway\n",
      "appyhay\n"
     ]
    }
   ],
   "source": [
    "def pig(word):\n",
    "    vowels=['a','e','i','o','u']\n",
    "    isVowel=word[:1]in vowels\n",
    "    if(isVowel):\n",
    "        return word + 'way'\n",
    "    else:\n",
    "        return word[1:] + word[:1] + 'ay'\n",
    "        \n",
    "ans1 = pig(word='enter')\n",
    "ans2 = pig(word='happy')\n",
    "print(ans1)\n",
    "print(ans2)"
   ]
  },
  {
   "cell_type": "markdown",
   "id": "e70fb9c1",
   "metadata": {},
   "source": [
    "Question-7\n"
   ]
  },
  {
   "cell_type": "code",
   "execution_count": 32,
   "id": "36f4087b",
   "metadata": {},
   "outputs": [
    {
     "name": "stdout",
     "output_type": "stream",
     "text": [
      "A:15\n",
      "B:1\n",
      "AB:13\n",
      "O:15\n",
      "OO:0\n"
     ]
    }
   ],
   "source": [
    "def bloodcount():\n",
    "    print(f\"A:{countSameBloodSamples('A')}\")\n",
    "    print(f\"B:{countSameBloodSamples('B')}\")\n",
    "    print(f\"AB:{countSameBloodSamples('AB')}\")\n",
    "    print(f\"O:{countSameBloodSamples('O')}\")\n",
    "    print(f\"OO:{countSameBloodSamples('OO')}\")\n",
    "    \n",
    "def countSameBloodSamples(letter):\n",
    "    with open('bloodcount.txt','r') as f:\n",
    "        data=f.read()\n",
    "        no=0\n",
    "    for x in data.split(' '):\n",
    "        if letter==x:\n",
    "            no=no+1\n",
    "               \n",
    "    return int(no)\n",
    "\n",
    "bloodcount()"
   ]
  },
  {
   "cell_type": "markdown",
   "id": "3d3364e1",
   "metadata": {},
   "source": [
    "Question-8\n"
   ]
  },
  {
   "cell_type": "code",
   "execution_count": 18,
   "id": "c647c844",
   "metadata": {},
   "outputs": [
    {
     "name": "stdout",
     "output_type": "stream",
     "text": [
      "122.96544\n",
      "1.241401\n"
     ]
    }
   ],
   "source": [
    "def curconv(abr,amount):\n",
    "    x ={}\n",
    "    with open(\"currencies.txt\") as f:\n",
    "        for line in f.readlines():            \n",
    "            (key,val) = line.split(\"\t\")[0],line.split(\"\t\")[1]\n",
    "            x[key] = val\n",
    "                       \n",
    "    ans = float(x[abr])*amount\n",
    "    print(float(ans))\n",
    "           \n",
    "curconv('EUR', 100)\n",
    "curconv('JPY', 100)"
   ]
  },
  {
   "cell_type": "markdown",
   "id": "a78e88e7",
   "metadata": {},
   "source": [
    "Question-9"
   ]
  },
  {
   "cell_type": "markdown",
   "id": "f4037c6e",
   "metadata": {},
   "source": [
    "6+'a' has TypeError:unsupported operand type(s) for +: 'int' and 'str'\n",
    "12th item of list that has only 10 items has Indexerror:list index out of range\n",
    "value that is out of range for a function’s input, such as calling math.sqrt(-1.0) has ValueError: math domain error\n",
    "print(x) when x has not been defined has NameError:name 'a' is not defined\n",
    "open a file that does not exist, such as mistyping the file name or looking in the wrong directory has FileNotFoundError:[Errno2] no such file or directory:'xyv.txt'\n"
   ]
  },
  {
   "cell_type": "markdown",
   "id": "7f851683",
   "metadata": {},
   "source": [
    "Question-10"
   ]
  },
  {
   "cell_type": "code",
   "execution_count": 19,
   "id": "2b0c96b8",
   "metadata": {},
   "outputs": [
    {
     "name": "stdout",
     "output_type": "stream",
     "text": [
      "[1, 1, 1, 3, 5, 1, 1, 2, 1, 0, 1, 0, 1, 2, 4, 0, 1, 2, 0, 2, 1, 0, 1, 1, 0, 0]\n",
      "[1, 0, 0, 0, 1, 0, 0, 0, 0, 0, 0, 1, 0, 0, 0, 2, 0, 0, 0, 0, 0, 0, 0, 0, 0, 0]\n"
     ]
    }
   ],
   "source": [
    "def frequencies(word):\n",
    "    letters='abcdefghijklmnopqrstuvwxyz'\n",
    "    ans=[]\n",
    "    for x in letters:\n",
    "        ans.append(word.count(x))\n",
    "        \n",
    "    return ans\n",
    "\n",
    "count=frequencies('The quick red fox got bored and went home')\n",
    "count1=frequencies('apple')\n",
    "print(count)\n",
    "print(count1)"
   ]
  },
  {
   "cell_type": "code",
   "execution_count": null,
   "id": "67d83c7a",
   "metadata": {},
   "outputs": [],
   "source": []
  },
  {
   "cell_type": "code",
   "execution_count": null,
   "id": "d007bff2",
   "metadata": {},
   "outputs": [],
   "source": []
  }
 ],
 "metadata": {
  "kernelspec": {
   "display_name": "Python 3 (ipykernel)",
   "language": "python",
   "name": "python3"
  },
  "language_info": {
   "codemirror_mode": {
    "name": "ipython",
    "version": 3
   },
   "file_extension": ".py",
   "mimetype": "text/x-python",
   "name": "python",
   "nbconvert_exporter": "python",
   "pygments_lexer": "ipython3",
   "version": "3.9.13"
  }
 },
 "nbformat": 4,
 "nbformat_minor": 5
}
